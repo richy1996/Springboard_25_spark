{
  "cells": [
    {
      "cell_type": "markdown",
      "metadata": {
        "id": "view-in-github",
        "colab_type": "text"
      },
      "source": [
        "<a href=\"https://colab.research.google.com/github/richy1996/Springboard_25_spark/blob/main/latest.ipynb\" target=\"_parent\"><img src=\"https://colab.research.google.com/assets/colab-badge.svg\" alt=\"Open In Colab\"/></a>"
      ]
    },
    {
      "cell_type": "markdown",
      "metadata": {
        "application/vnd.databricks.v1+cell": {
          "cellMetadata": {},
          "inputWidgets": {},
          "nuid": "a784be7d-c0ef-4bbe-9d8a-f7d6dc38bd1d",
          "showTitle": false,
          "title": ""
        },
        "id": "HLcZ2JHVrWOh"
      },
      "source": [
        "##Exercise Overview\n",
        "In this exercise we will play with Spark [Datasets & Dataframes](https://spark.apache.org/docs/latest/sql-programming-guide.html#datasets-and-dataframes), some [Spark SQL](https://spark.apache.org/docs/latest/sql-programming-guide.html#sql), and build a couple of binary classifiaction models using [Spark ML](https://spark.apache.org/docs/latest/ml-guide.html) (with some [MLlib](https://spark.apache.org/mllib/) too).\n",
        "<br><br>\n",
        "The set up and approach will not be too dissimilar to the standard type of approach you might do in [Sklearn](http://scikit-learn.org/stable/index.html). Spark has matured to the stage now where for 90% of what you need to do (when analysing tabular data) should be possible with Spark dataframes, SQL, and ML libraries. This is where this exercise is mainly trying to focus.  \n",
        "<br>\n",
        "Feel free to adapt this exercise to play with other datasets readily availabe in the Databricks enviornment (they are listed in a cell below).\n",
        "#####Getting Started\n",
        "To get started you will need to create and attach a databricks spark cluster to this notebook. This notebook was developed on a cluster created with:\n",
        "- Databricks Runtime Version 4.0 (includes Apache Spark 2.3.0, Scala 2.11)\n",
        "- Python Version 3\n",
        "\n",
        "#####Links & References\n",
        "\n",
        "Some useful links and references of sources used in creating this exercise:\n",
        "\n",
        "**Note**: Right click and open as new tab!\n",
        "<br>\n",
        "1. [Latest Spark Docs](https://spark.apache.org/docs/latest/index.html)\n",
        "1. [Databricks Homepage](https://databricks.com/)\n",
        "1. [Databricks Community Edition FAQ](https://databricks.com/product/faq/community-edition)\n",
        "1. [Databricks Self Paced Training](https://databricks.com/training-overview/training-self-paced)\n",
        "1. [Databricks Notebook Guide](https://docs.databricks.com/user-guide/notebooks/index.html)\n",
        "1. [Databricks Binary Classification Tutorial](https://docs.databricks.com/spark/latest/mllib/binary-classification-mllib-pipelines.html#binary-classification)\n"
      ]
    },
    {
      "cell_type": "markdown",
      "metadata": {
        "application/vnd.databricks.v1+cell": {
          "cellMetadata": {},
          "inputWidgets": {},
          "nuid": "42027a18-d188-4cc7-b55d-d134d004b94c",
          "showTitle": false,
          "title": ""
        },
        "id": "ZogjtqmCrWOj"
      },
      "source": [
        "\n",
        "####Get Data\n",
        "\n",
        "Here we will pull in some sample data that is already pre-loaded onto all databricks clusters.\n",
        "\n",
        "Feel free to adapt this notebook later to play around with a different dataset if you like (all available are listed in a cell below)."
      ]
    },
    {
      "cell_type": "code",
      "execution_count": null,
      "metadata": {
        "application/vnd.databricks.v1+cell": {
          "cellMetadata": {},
          "inputWidgets": {},
          "nuid": "08861271-96bb-4c6a-99ed-03a88d5a9e61",
          "showTitle": false,
          "title": ""
        },
        "id": "nezDcvxarWOj"
      },
      "outputs": [],
      "source": [
        "# display datasets already in databricks\n",
        "display(dbutils.fs.ls(\"/databricks-datasets\"))"
      ]
    },
    {
      "cell_type": "markdown",
      "metadata": {
        "application/vnd.databricks.v1+cell": {
          "cellMetadata": {},
          "inputWidgets": {},
          "nuid": "f694bf9a-dd4e-44ff-a2d6-4b793d8a5c84",
          "showTitle": false,
          "title": ""
        },
        "id": "zUFLN6ErrWOk"
      },
      "source": [
        "\n",
        "Lets take a look at the '**adult**' dataset on the filesystem. This is the typical US Census data you often see online in tutorials. [Here](https://archive.ics.uci.edu/ml/datasets/adult) is the same data in the UCI repository.\n",
        "\n",
        "_As an aside: [here](https://github.com/GoogleCloudPlatform/cloudml-samples/tree/master/census) this same dataset is used as a quickstart example for Google CLoud ML & Tensorflow Estimator API (in case youd be interested in playing with tensorflow on the same dataset as here)._"
      ]
    },
    {
      "cell_type": "code",
      "execution_count": null,
      "metadata": {
        "application/vnd.databricks.v1+cell": {
          "cellMetadata": {},
          "inputWidgets": {},
          "nuid": "094c1468-3806-415e-9861-16d75eb1c875",
          "showTitle": false,
          "title": ""
        },
        "id": "ZLvYolYbrWOk"
      },
      "outputs": [],
      "source": [
        "%fs ls databricks-datasets/adult/adult.data"
      ]
    },
    {
      "cell_type": "markdown",
      "metadata": {
        "application/vnd.databricks.v1+cell": {
          "cellMetadata": {},
          "inputWidgets": {},
          "nuid": "0ea84312-1c4d-4d34-bf51-acf7f4d7b53d",
          "showTitle": false,
          "title": ""
        },
        "id": "09mKjJfIrWOk"
      },
      "source": [
        "**Note**: Above  %fs is just some file system cell magic that is specific to databricks. More info [here](https://docs.databricks.com/user-guide/notebooks/index.html#mix-languages)."
      ]
    },
    {
      "cell_type": "markdown",
      "metadata": {
        "application/vnd.databricks.v1+cell": {
          "cellMetadata": {},
          "inputWidgets": {},
          "nuid": "4da738cf-4ea9-4e29-8b2a-df25bd219b91",
          "showTitle": false,
          "title": ""
        },
        "id": "6YJ2VKvorWOk"
      },
      "source": [
        "####Spark SQL\n",
        "Below we will use Spark SQL to load in the data and then register it as a Dataframe aswell. So the end result will be a Spark SQL table called _adult_ and a Spark Dataframe called _df_adult_.\n",
        "<br><br>\n",
        "This is an example of the flexibility in Spark in that you could do lots of you ETL and data wrangling using either Spark SQL or Dataframes and pyspark. Most of the time it's a case of using whatever you are most comfortable with.\n",
        "<br><br>\n",
        "When you get more advanced then you might looking the pro's and con's of each and when you might favour one or the other (or operating direclty on RDD's), [here](https://databricks.com/blog/2016/07/14/a-tale-of-three-apache-spark-apis-rdds-dataframes-and-datasets.html) is a good article on the issues. For now, no need to overthink it!"
      ]
    },
    {
      "cell_type": "code",
      "execution_count": null,
      "metadata": {
        "application/vnd.databricks.v1+cell": {
          "cellMetadata": {},
          "inputWidgets": {},
          "nuid": "f29422f7-a431-47fc-ac78-357d4ed5dfcb",
          "showTitle": false,
          "title": ""
        },
        "id": "S3t9KpJzrWOk"
      },
      "outputs": [],
      "source": [
        "%sql\n",
        "-- drop the table if it already exists\n",
        "DROP TABLE IF EXISTS adult"
      ]
    },
    {
      "cell_type": "code",
      "execution_count": null,
      "metadata": {
        "application/vnd.databricks.v1+cell": {
          "cellMetadata": {},
          "inputWidgets": {},
          "nuid": "74ea1b46-45a5-45b4-8672-5b9923f14b42",
          "showTitle": false,
          "title": ""
        },
        "id": "T1Na9pgkrWOl"
      },
      "outputs": [],
      "source": [
        "%sql\n",
        "-- create a new table in Spark SQL from the datasets already loaded in the underlying filesystem.\n",
        "-- In the real world you might be pointing at a file on HDFS or a hive table etc.\n",
        "CREATE TABLE adult (\n",
        "  age DOUBLE,\n",
        "  workclass STRING,\n",
        "  fnlwgt DOUBLE,\n",
        "  education STRING,\n",
        "  education_num DOUBLE,\n",
        "  marital_status STRING,\n",
        "  occupation STRING,\n",
        "  relationship STRING,\n",
        "  race STRING,\n",
        "  sex STRING,\n",
        "  capital_gain DOUBLE,\n",
        "  capital_loss DOUBLE,\n",
        "  hours_per_week DOUBLE,\n",
        "  native_country STRING,\n",
        "  income STRING)\n",
        "USING com.databricks.spark.csv\n",
        "OPTIONS (path \"/databricks-datasets/adult/adult.data\", header \"true\")"
      ]
    },
    {
      "cell_type": "code",
      "execution_count": null,
      "metadata": {
        "application/vnd.databricks.v1+cell": {
          "cellMetadata": {},
          "inputWidgets": {},
          "nuid": "61e44086-0919-4a73-b66e-194eb3b3d141",
          "showTitle": false,
          "title": ""
        },
        "id": "-ydVl39zrWOl"
      },
      "outputs": [],
      "source": [
        "# look at the data\n",
        "#spark.sql(\"SELECT * FROM adult LIMIT 5\").show()\n",
        "# this will look prettier in Databricks if you use display() instead\n",
        "display(spark.sql(\"SELECT * FROM adult LIMIT 5\"))"
      ]
    },
    {
      "cell_type": "markdown",
      "metadata": {
        "application/vnd.databricks.v1+cell": {
          "cellMetadata": {},
          "inputWidgets": {},
          "nuid": "ee2a366b-3435-4b7b-a626-fe32c81324f7",
          "showTitle": false,
          "title": ""
        },
        "id": "WfVDvb12rWOl"
      },
      "source": [
        "If you are more comfortable with SQL then as you can see below, its very easy to just get going with writing standard SQL type code to analyse your data, do data wrangling and create new dataframes."
      ]
    },
    {
      "cell_type": "code",
      "execution_count": null,
      "metadata": {
        "application/vnd.databricks.v1+cell": {
          "cellMetadata": {},
          "inputWidgets": {},
          "nuid": "10a20373-d946-4498-a690-63e0fe0039d8",
          "showTitle": false,
          "title": ""
        },
        "id": "fLO5M4dgrWOl"
      },
      "outputs": [],
      "source": [
        "# Lets get some summary marital status rates by occupation\n",
        "result = spark.sql(\n",
        "  \"\"\"\n",
        "  SELECT\n",
        "    occupation,\n",
        "    SUM(1) as n,\n",
        "    ROUND(AVG(if(LTRIM(marital_status) LIKE 'Married-%',1,0)),2) as married_rate,\n",
        "    ROUND(AVG(if(lower(marital_status) LIKE '%widow%',1,0)),2) as widow_rate,\n",
        "    ROUND(AVG(if(LTRIM(marital_status) = 'Divorced',1,0)),2) as divorce_rate,\n",
        "    ROUND(AVG(if(LTRIM(marital_status) = 'Separated',1,0)),2) as separated_rate,\n",
        "    ROUND(AVG(if(LTRIM(marital_status) = 'Never-married',1,0)),2) as bachelor_rate\n",
        "  FROM\n",
        "    adult\n",
        "  GROUP BY 1\n",
        "  ORDER BY n DESC\n",
        "  \"\"\")\n",
        "display(result)"
      ]
    },
    {
      "cell_type": "markdown",
      "metadata": {
        "application/vnd.databricks.v1+cell": {
          "cellMetadata": {},
          "inputWidgets": {},
          "nuid": "1e13431a-0c0d-425a-aac3-05d2dcbb4847",
          "showTitle": false,
          "title": ""
        },
        "id": "mtkQHWsHrWOl"
      },
      "source": [
        "You can easily register dataframes as a table for Spark SQL too. So this way you can easily move between Dataframes and Spark SQL for whatever reason.  "
      ]
    },
    {
      "cell_type": "code",
      "execution_count": null,
      "metadata": {
        "application/vnd.databricks.v1+cell": {
          "cellMetadata": {},
          "inputWidgets": {},
          "nuid": "8b279962-0a62-4ef3-827a-1760003c7ad7",
          "showTitle": false,
          "title": ""
        },
        "id": "m_TX13wVrWOm"
      },
      "outputs": [],
      "source": [
        "# register the df we just made as a table for spark sql\n",
        "sqlContext.registerDataFrameAsTable(result, \"result\")\n",
        "spark.sql(\"SELECT * FROM result\").show(5)"
      ]
    },
    {
      "cell_type": "markdown",
      "metadata": {
        "application/vnd.databricks.v1+cell": {
          "cellMetadata": {},
          "inputWidgets": {},
          "nuid": "60012ba7-9fef-4805-9a7b-5a172528f91e",
          "showTitle": false,
          "title": ""
        },
        "id": "ip-6sZ3erWOm"
      },
      "source": [
        "####<span style=\"color:darkblue\">Question 1</span>\n",
        "\n",
        "1. Write some spark sql to get the top 'bachelor_rate' by 'education' group?"
      ]
    },
    {
      "cell_type": "code",
      "execution_count": null,
      "metadata": {
        "application/vnd.databricks.v1+cell": {
          "cellMetadata": {},
          "inputWidgets": {},
          "nuid": "f459382f-0077-4eaa-88c4-8774b11ac7ed",
          "showTitle": false,
          "title": ""
        },
        "id": "GTKZVAT6rWOm"
      },
      "outputs": [],
      "source": [
        "### Question 1.1 Answer ###\n",
        "\n",
        "query = \"\"\"\n",
        "SELECT\n",
        "    education,\n",
        "    ROUND(AVG(if(LTRIM(marital_status) = 'Never-married',1,0)),2) as bachelor_rate\n",
        "FROM\n",
        "    adult\n",
        "GROUP BY education\n",
        "ORDER BY bachelor_rate DESC\n",
        "LIMIT 1\n",
        "\"\"\"\n",
        "\n",
        "result = spark.sql(query)\n",
        "result.show()"
      ]
    },
    {
      "cell_type": "markdown",
      "metadata": {
        "application/vnd.databricks.v1+cell": {
          "cellMetadata": {},
          "inputWidgets": {},
          "nuid": "cdad73e5-f3dc-4fed-8104-195986c98b8e",
          "showTitle": false,
          "title": ""
        },
        "id": "VRyb9fgirWOm"
      },
      "source": [
        "####Spark DataFrames\n",
        "Below we will create our DataFrame from the SQL table and do some similar analysis as we did with Spark SQL but using the DataFrames API."
      ]
    },
    {
      "cell_type": "code",
      "execution_count": null,
      "metadata": {
        "application/vnd.databricks.v1+cell": {
          "cellMetadata": {},
          "inputWidgets": {},
          "nuid": "e36315d3-9d4b-4d64-b825-838077a2a26d",
          "showTitle": false,
          "title": ""
        },
        "id": "VOEW-2eJrWOm"
      },
      "outputs": [],
      "source": [
        "# register a df from the sql df\n",
        "df_adult = spark.table(\"adult\")\n",
        "cols = df_adult.columns # this will be used much later in the notebook, ignore for now"
      ]
    },
    {
      "cell_type": "code",
      "execution_count": null,
      "metadata": {
        "application/vnd.databricks.v1+cell": {
          "cellMetadata": {},
          "inputWidgets": {},
          "nuid": "f6bdb9e3-85db-492e-a199-8204c5134648",
          "showTitle": false,
          "title": ""
        },
        "id": "tGQ6m4HZrWOm"
      },
      "outputs": [],
      "source": [
        "# look at df schema\n",
        "df_adult.printSchema()"
      ]
    },
    {
      "cell_type": "code",
      "execution_count": null,
      "metadata": {
        "application/vnd.databricks.v1+cell": {
          "cellMetadata": {},
          "inputWidgets": {},
          "nuid": "d845d925-2e3f-486a-8f71-85c8b51bfb01",
          "showTitle": false,
          "title": ""
        },
        "id": "zGznjVn9rWOm"
      },
      "outputs": [],
      "source": [
        "# look at the df\n",
        "display(df_adult)\n",
        "#df_adult.show(5)"
      ]
    },
    {
      "cell_type": "markdown",
      "metadata": {
        "application/vnd.databricks.v1+cell": {
          "cellMetadata": {},
          "inputWidgets": {},
          "nuid": "1c265a7d-dc94-4055-a5d9-3ada8ade69b9",
          "showTitle": false,
          "title": ""
        },
        "id": "2s0QzDgcrWOm"
      },
      "source": [
        "Below we will do a similar calculation to what we did above but using the DataFrames API"
      ]
    },
    {
      "cell_type": "code",
      "execution_count": null,
      "metadata": {
        "application/vnd.databricks.v1+cell": {
          "cellMetadata": {},
          "inputWidgets": {},
          "nuid": "51663458-bb42-48f4-a8f2-793452437325",
          "showTitle": false,
          "title": ""
        },
        "id": "Uhw0FfDRrWOm"
      },
      "outputs": [],
      "source": [
        "# import what we will need\n",
        "from pyspark.sql.functions import when, col, mean, desc, round\n",
        "\n",
        "# wrangle the data a bit\n",
        "df_result = df_adult.select(\n",
        "  df_adult['occupation'],\n",
        "  # create a 1/0 type col on the fly\n",
        "  when( col('marital_status') == ' Divorced' , 1 ).otherwise(0).alias('is_divorced')\n",
        ")\n",
        "# do grouping (and a round)\n",
        "df_result = df_result.groupBy('occupation').agg(round(mean('is_divorced'),2).alias('divorced_rate'))\n",
        "# do ordering\n",
        "df_result = df_result.orderBy(desc('divorced_rate'))\n",
        "# show results\n",
        "df_result.show(5)"
      ]
    },
    {
      "cell_type": "markdown",
      "metadata": {
        "application/vnd.databricks.v1+cell": {
          "cellMetadata": {},
          "inputWidgets": {},
          "nuid": "0b42cbcc-2504-4aba-b5d3-6d6c9eab9a13",
          "showTitle": false,
          "title": ""
        },
        "id": "g6wc88K3rWOn"
      },
      "source": [
        "As you can see the dataframes api is a bit more verbose then just expressing what you want to do in standard SQL.<br><br>But some prefer it and might be more used to it, and there could be cases where expressing what you need to do might just be better using the DataFrame API if it is too complicated for a simple SQL expression for example of maybe involves recursion of some type.  "
      ]
    },
    {
      "cell_type": "markdown",
      "metadata": {
        "application/vnd.databricks.v1+cell": {
          "cellMetadata": {},
          "inputWidgets": {},
          "nuid": "212b7cc2-f16c-4520-8b9d-4b7a7ef6a5d1",
          "showTitle": false,
          "title": ""
        },
        "id": "eIzMOZvurWOn"
      },
      "source": [
        "####<span style=\"color:darkblue\">Question 2</span>\n",
        "1. Write some pyspark to get the top 'bachelor_rate' by 'education' group using DataFrame operations?"
      ]
    },
    {
      "cell_type": "code",
      "execution_count": null,
      "metadata": {
        "application/vnd.databricks.v1+cell": {
          "cellMetadata": {},
          "inputWidgets": {},
          "nuid": "041b9e77-b46b-41ac-9985-c65ac0a80ea0",
          "showTitle": false,
          "title": ""
        },
        "id": "Cs5WS4ACrWOn"
      },
      "outputs": [],
      "source": [
        "### Question 2.1 Answer ###\n",
        "\n",
        "# imports\n",
        "from pyspark.sql.functions import when, col, mean, desc, round\n",
        "\n",
        "# Wrangle the data to create a 'is_bachelor' column\n",
        "df_bachelor = df_adult.select(\n",
        "    df_adult['education'],\n",
        "    when(col('marital_status') == ' Never-married', 1).otherwise(0).alias('is_bachelor')\n",
        ")\n",
        "\n",
        "# Group by 'education' and calculate the average 'bachelor_rate'\n",
        "df_bachelor_rate = df_bachelor.groupBy('education').agg(round(mean('is_bachelor'), 2).alias('bachelor_rate'))\n",
        "\n",
        "# Order by 'bachelor_rate' in descending order and show the top result\n",
        "df_result = df_bachelor_rate.orderBy(desc('bachelor_rate'))\n",
        "df_result.show(1)"
      ]
    },
    {
      "cell_type": "markdown",
      "metadata": {
        "application/vnd.databricks.v1+cell": {
          "cellMetadata": {},
          "inputWidgets": {},
          "nuid": "424f7521-a63f-4565-8c55-334ad8d3a5f0",
          "showTitle": false,
          "title": ""
        },
        "id": "VRp39VAirWOn"
      },
      "source": [
        "####Explore & Visualize Data\n",
        "It's very easy to [collect()](https://spark.apache.org/docs/latest/rdd-programming-guide.html#printing-elements-of-an-rdd) your Spark DataFrame data into a Pandas df and then continue to analyse or plot as you might normally.\n",
        "<br><br>\n",
        "Obviously if you try to collect() a huge DataFrame then you will run into issues, so usually you would only collect aggregated or sampled data into a Pandas df."
      ]
    },
    {
      "cell_type": "code",
      "execution_count": null,
      "metadata": {
        "application/vnd.databricks.v1+cell": {
          "cellMetadata": {},
          "inputWidgets": {},
          "nuid": "7d48a5d7-e040-4711-a4bb-d40089812003",
          "showTitle": false,
          "title": ""
        },
        "id": "7JZnnGLyrWOn"
      },
      "outputs": [],
      "source": [
        "import pandas as pd\n",
        "\n",
        "# do some analysis\n",
        "result = spark.sql(\n",
        "  \"\"\"\n",
        "  SELECT\n",
        "    occupation,\n",
        "    AVG(IF(income = ' >50K',1,0)) as plus_50k\n",
        "  FROM\n",
        "    adult\n",
        "  GROUP BY 1\n",
        "  ORDER BY 2 DESC\n",
        "  \"\"\")\n",
        "\n",
        "# collect results into a pandas df\n",
        "df_pandas = pd.DataFrame(\n",
        "  result.collect(),\n",
        "  columns=result.schema.names\n",
        ")\n",
        "\n",
        "# look at df\n",
        "print(df_pandas.head())"
      ]
    },
    {
      "cell_type": "code",
      "execution_count": null,
      "metadata": {
        "application/vnd.databricks.v1+cell": {
          "cellMetadata": {},
          "inputWidgets": {},
          "nuid": "ae525621-ff36-44ed-87d3-ed5b3893ee0a",
          "showTitle": false,
          "title": ""
        },
        "id": "4oeeaofUrWOn"
      },
      "outputs": [],
      "source": [
        "print(df_pandas.describe())"
      ]
    },
    {
      "cell_type": "code",
      "execution_count": null,
      "metadata": {
        "application/vnd.databricks.v1+cell": {
          "cellMetadata": {},
          "inputWidgets": {},
          "nuid": "807dbd6b-4efa-4a4c-9e07-1fb70ad69507",
          "showTitle": false,
          "title": ""
        },
        "id": "Um7WLFworWOn"
      },
      "outputs": [],
      "source": [
        "print(df_pandas.info())"
      ]
    },
    {
      "cell_type": "markdown",
      "metadata": {
        "application/vnd.databricks.v1+cell": {
          "cellMetadata": {},
          "inputWidgets": {},
          "nuid": "15035faa-9b4c-44a3-9d9d-226698c9efa7",
          "showTitle": false,
          "title": ""
        },
        "id": "Y31vzK36rWOn"
      },
      "source": [
        "Here we will just do some very basic plotting to show how you might collect what you are interested in into a Pandas DF and then just plot any way you normally would.\n",
        "\n",
        "For simplicity we are going to use the plotting functionality built into pandas (you could make this a pretty as you want)."
      ]
    },
    {
      "cell_type": "code",
      "execution_count": null,
      "metadata": {
        "application/vnd.databricks.v1+cell": {
          "cellMetadata": {},
          "inputWidgets": {},
          "nuid": "535b3153-e3ba-486d-b35a-9c97131c6550",
          "showTitle": false,
          "title": ""
        },
        "id": "Tmi1rHWyrWOn"
      },
      "outputs": [],
      "source": [
        "import matplotlib.pyplot as plt\n",
        "\n",
        "# i like ggplot style\n",
        "plt.style.use('ggplot')\n",
        "\n",
        "# get simple plot on the pandas data\n",
        "myplot = df_pandas.plot(kind='barh', x='occupation', y='plus_50k')\n",
        "\n",
        "# No need to call display() as the plot is already shown by the plot() method"
      ]
    },
    {
      "cell_type": "markdown",
      "metadata": {
        "application/vnd.databricks.v1+cell": {
          "cellMetadata": {},
          "inputWidgets": {},
          "nuid": "40c0c803-4b21-459b-81bf-726d6b434cd0",
          "showTitle": false,
          "title": ""
        },
        "id": "vQNwv1AKrWOo"
      },
      "source": [
        "You can also easily get summary stats on a Spark DataFrame like below. [Here](https://databricks.com/blog/2015/06/02/statistical-and-mathematical-functions-with-dataframes-in-spark.html) is a nice blog post that has more examples.<br><br>So this is an example of why you might want to move from Spark SQL into DataFrames API as being able to just call describe() on the Spark DF is easier then trying to do the equivilant in Spark SQL.  "
      ]
    },
    {
      "cell_type": "code",
      "execution_count": null,
      "metadata": {
        "application/vnd.databricks.v1+cell": {
          "cellMetadata": {},
          "inputWidgets": {},
          "nuid": "f0c07161-50d4-43d0-81a9-5116da81b068",
          "showTitle": false,
          "title": ""
        },
        "id": "Om0EpmP_rWOo"
      },
      "outputs": [],
      "source": [
        "# describe df\n",
        "df_adult.select(df_adult['age'],df_adult['education_num']).describe().show()"
      ]
    },
    {
      "cell_type": "markdown",
      "metadata": {
        "application/vnd.databricks.v1+cell": {
          "cellMetadata": {},
          "inputWidgets": {},
          "nuid": "eadbdea7-6f47-463b-b1f0-071fb39ae439",
          "showTitle": false,
          "title": ""
        },
        "id": "qH281JHgrWOo"
      },
      "source": [
        "\n",
        "### ML Pipeline - Logistic Regression vs Random Forest\n",
        "\n",
        "Below we will create two [Spark ML Pipelines](https://spark.apache.org/docs/latest/ml-pipeline.html) - one that fits a logistic regression and one that fits a random forest. We will then compare the performance of each.\n",
        "\n",
        "**Note**: A lot of the code below is adapted from [this example](https://docs.databricks.com/spark/latest/mllib/binary-classification-mllib-pipelines.html)."
      ]
    },
    {
      "cell_type": "code",
      "execution_count": null,
      "metadata": {
        "application/vnd.databricks.v1+cell": {
          "cellMetadata": {},
          "inputWidgets": {},
          "nuid": "40f9892e-4b75-4520-87ee-5c443c7670f3",
          "showTitle": false,
          "title": ""
        },
        "id": "VUR4_W9FrWOo"
      },
      "outputs": [],
      "source": [
        "from pyspark.ml import Pipeline\n",
        "from pyspark.ml.feature import OneHotEncoder, StringIndexer, VectorAssembler\n",
        "\n",
        "categoricalColumns = [\"workclass\", \"education\", \"marital_status\", \"occupation\", \"relationship\", \"race\", \"sex\", \"native_country\"]\n",
        "stages = [] # stages in our Pipeline\n",
        "\n",
        "for categoricalCol in categoricalColumns:\n",
        "    # Category Indexing with StringIndexer\n",
        "    stringIndexer = StringIndexer(inputCol=categoricalCol, outputCol=categoricalCol + \"Index\")\n",
        "    # Use OneHotEncoder to convert categorical variables into binary SparseVectors\n",
        "    encoder = OneHotEncoder(inputCols=[stringIndexer.getOutputCol()], outputCols=[categoricalCol + \"classVec\"])\n",
        "    # Add stages.  These are not run here, but will run all at once later on.\n",
        "    stages += [stringIndexer, encoder]"
      ]
    },
    {
      "cell_type": "code",
      "execution_count": null,
      "metadata": {
        "application/vnd.databricks.v1+cell": {
          "cellMetadata": {},
          "inputWidgets": {},
          "nuid": "e62c3f07-8f0e-47a6-a97e-12ae49482f3e",
          "showTitle": false,
          "title": ""
        },
        "id": "D1KiJTaKrWOo"
      },
      "outputs": [],
      "source": [
        "# Convert label into label indices using the StringIndexer\n",
        "label_stringIdx = StringIndexer(inputCol=\"income\", outputCol=\"label\")\n",
        "stages += [label_stringIdx]"
      ]
    },
    {
      "cell_type": "code",
      "execution_count": null,
      "metadata": {
        "application/vnd.databricks.v1+cell": {
          "cellMetadata": {},
          "inputWidgets": {},
          "nuid": "edbb0398-e320-4265-8ce4-fa26ee47bc37",
          "showTitle": false,
          "title": ""
        },
        "id": "URq24VJNrWOo"
      },
      "outputs": [],
      "source": [
        "# Transform all features into a vector using VectorAssembler\n",
        "numericCols = [\"age\", \"fnlwgt\", \"education_num\", \"capital_gain\", \"capital_loss\", \"hours_per_week\"]\n",
        "assemblerInputs = [c + \"classVec\" for c in categoricalColumns] + numericCols\n",
        "assembler = VectorAssembler(inputCols=assemblerInputs, outputCol=\"features\")\n",
        "stages += [assembler]"
      ]
    },
    {
      "cell_type": "code",
      "execution_count": null,
      "metadata": {
        "application/vnd.databricks.v1+cell": {
          "cellMetadata": {},
          "inputWidgets": {},
          "nuid": "d42bd749-76d0-4a3c-80b0-cfcfa7ada644",
          "showTitle": false,
          "title": ""
        },
        "id": "MUqWiTJurWOo"
      },
      "outputs": [],
      "source": [
        "# Create a Pipeline.\n",
        "pipeline = Pipeline(stages=stages)\n",
        "# Run the feature transformations.\n",
        "#  - fit() computes feature statistics as needed.\n",
        "#  - transform() actually transforms the features.\n",
        "pipelineModel = pipeline.fit(df_adult)\n",
        "dataset = pipelineModel.transform(df_adult)\n",
        "# Keep relevant columns\n",
        "selectedcols = [\"label\", \"features\"] + cols\n",
        "dataset = dataset.select(selectedcols)\n",
        "display(dataset)"
      ]
    },
    {
      "cell_type": "code",
      "execution_count": null,
      "metadata": {
        "application/vnd.databricks.v1+cell": {
          "cellMetadata": {},
          "inputWidgets": {},
          "nuid": "4e091d07-709d-44fb-9cbb-4413be2ab923",
          "showTitle": false,
          "title": ""
        },
        "id": "L-JrkqQxrWOo"
      },
      "outputs": [],
      "source": [
        "### Randomly split data into training and test sets. set seed for reproducibility\n",
        "(trainingData, testData) = dataset.randomSplit([0.7, 0.3], seed=100)\n",
        "print(trainingData.count())\n",
        "print(testData.count())"
      ]
    },
    {
      "cell_type": "code",
      "execution_count": null,
      "metadata": {
        "application/vnd.databricks.v1+cell": {
          "cellMetadata": {},
          "inputWidgets": {},
          "nuid": "3f0adb9f-565a-4259-b1fc-2ab0310a166b",
          "showTitle": false,
          "title": ""
        },
        "id": "GalwerC-rWOp"
      },
      "outputs": [],
      "source": [
        "from pyspark.sql.functions import avg\n",
        "\n",
        "# get the rate of the positive outcome from the training data to use as a threshold in the model\n",
        "training_data_positive_rate = trainingData.select(avg(trainingData['label'])).collect()[0][0]\n",
        "\n",
        "print(\"Positive rate in the training data is {}\".format(training_data_positive_rate))"
      ]
    },
    {
      "cell_type": "markdown",
      "metadata": {
        "application/vnd.databricks.v1+cell": {
          "cellMetadata": {},
          "inputWidgets": {},
          "nuid": "ba435b7f-a288-468b-b1fb-274a37bc5dc3",
          "showTitle": false,
          "title": ""
        },
        "id": "udh0wLbUrWOp"
      },
      "source": [
        "\n",
        "####Logistic Regression - Train"
      ]
    },
    {
      "cell_type": "code",
      "execution_count": null,
      "metadata": {
        "application/vnd.databricks.v1+cell": {
          "cellMetadata": {},
          "inputWidgets": {},
          "nuid": "cf26b7ed-8e37-4bac-bc2a-ef70c8c4dbcd",
          "showTitle": false,
          "title": ""
        },
        "id": "VQA7ftRcrWOp"
      },
      "outputs": [],
      "source": [
        "from pyspark.ml.classification import LogisticRegression\n",
        "\n",
        "# Create initial LogisticRegression model\n",
        "lr = LogisticRegression(labelCol=\"label\", featuresCol=\"features\", maxIter=10)\n",
        "\n",
        "# set threshold for the probability above which to predict a 1\n",
        "lr.setThreshold(training_data_positive_rate)\n",
        "# lr.setThreshold(0.5) # could use this if knew you had balanced data\n",
        "\n",
        "# Train model with Training Data\n",
        "lrModel = lr.fit(trainingData)\n",
        "\n",
        "# get training summary used for eval metrics and other params\n",
        "lrTrainingSummary = lrModel.summary\n",
        "\n",
        "# Find the best model threshold if you would like to use that instead of the empirical positve rate\n",
        "fMeasure = lrTrainingSummary.fMeasureByThreshold\n",
        "maxFMeasure = fMeasure.groupBy().max('F-Measure').select('max(F-Measure)').head()\n",
        "lrBestThreshold = fMeasure.where(fMeasure['F-Measure'] == maxFMeasure['max(F-Measure)']) \\\n",
        "    .select('threshold').head()['threshold']\n",
        "\n",
        "print(\"Best threshold based on model performance on training data is {}\".format(lrBestThreshold))"
      ]
    },
    {
      "cell_type": "markdown",
      "metadata": {
        "application/vnd.databricks.v1+cell": {
          "cellMetadata": {},
          "inputWidgets": {},
          "nuid": "6e86c4d7-cbb1-4999-8d87-c4a88a6eb3df",
          "showTitle": false,
          "title": ""
        },
        "id": "coWxP0D5rWOp"
      },
      "source": [
        "####GBM - Train"
      ]
    },
    {
      "cell_type": "markdown",
      "metadata": {
        "application/vnd.databricks.v1+cell": {
          "cellMetadata": {},
          "inputWidgets": {},
          "nuid": "2a0acf03-0e59-4b47-b116-870233a359b2",
          "showTitle": false,
          "title": ""
        },
        "id": "GnjvGdY_rWOp"
      },
      "source": [
        "####<span style=\"color:darkblue\">Question 3</span>\n",
        "1. Train a GBTClassifier on the training data, call the trained model 'gbModel'"
      ]
    },
    {
      "cell_type": "code",
      "execution_count": null,
      "metadata": {
        "application/vnd.databricks.v1+cell": {
          "cellMetadata": {},
          "inputWidgets": {},
          "nuid": "068f3df9-428d-40df-be2c-46e6c7f9b16f",
          "showTitle": false,
          "title": ""
        },
        "id": "LgWMbe_ZrWOq"
      },
      "outputs": [],
      "source": [
        "### Question 3.1 Answer ###\n",
        "\n",
        "from pyspark.ml.classification import GBTClassifier\n",
        "\n",
        "# Initialize the GBTClassifier\n",
        "gb = GBTClassifier(labelCol=\"label\", featuresCol=\"features\", maxIter=10)\n",
        "\n",
        "# Train the model using the training data\n",
        "gbModel = gb.fit(trainingData)"
      ]
    },
    {
      "cell_type": "markdown",
      "metadata": {
        "application/vnd.databricks.v1+cell": {
          "cellMetadata": {},
          "inputWidgets": {},
          "nuid": "c2f7bd87-8468-4917-bd33-4262e44931db",
          "showTitle": false,
          "title": ""
        },
        "id": "nxCkXodvrWOq"
      },
      "source": [
        "\n",
        "####Logistic Regression - Predict"
      ]
    },
    {
      "cell_type": "code",
      "execution_count": null,
      "metadata": {
        "application/vnd.databricks.v1+cell": {
          "cellMetadata": {},
          "inputWidgets": {},
          "nuid": "5895b44c-236a-4f08-903f-69acdec9f6dc",
          "showTitle": false,
          "title": ""
        },
        "id": "Y5cSVat6rWOq"
      },
      "outputs": [],
      "source": [
        "# make predictions on test data\n",
        "lrPredictions = lrModel.transform(testData)\n",
        "\n",
        "# display predictions\n",
        "display(lrPredictions.select(\"label\", \"prediction\", \"probability\"))\n",
        "#display(lrPredictions)"
      ]
    },
    {
      "cell_type": "markdown",
      "metadata": {
        "application/vnd.databricks.v1+cell": {
          "cellMetadata": {},
          "inputWidgets": {},
          "nuid": "d6cf2b34-053d-46e3-9e46-5c1aa0f91587",
          "showTitle": false,
          "title": ""
        },
        "id": "qNkEVo10rWOq"
      },
      "source": [
        "\n",
        "###GBM - Predict"
      ]
    },
    {
      "cell_type": "markdown",
      "metadata": {
        "application/vnd.databricks.v1+cell": {
          "cellMetadata": {},
          "inputWidgets": {},
          "nuid": "1860094c-5649-4ae3-8b60-72e0e5f2f05f",
          "showTitle": false,
          "title": ""
        },
        "id": "6c77bOZYrWOq"
      },
      "source": [
        "####<span style=\"color:darkblue\">Question 4</span>\n",
        "1. Get predictions on the test data for your GBTClassifier. Call the predictions df 'gbPredictions'."
      ]
    },
    {
      "cell_type": "code",
      "execution_count": null,
      "metadata": {
        "application/vnd.databricks.v1+cell": {
          "cellMetadata": {},
          "inputWidgets": {},
          "nuid": "b92038f7-6906-4406-8c61-c79b921e7d49",
          "showTitle": false,
          "title": ""
        },
        "id": "KCzJbsHYrWOq"
      },
      "outputs": [],
      "source": [
        "### Question 4.1 Answer ###\n",
        "\n",
        "# Make predictions on test data using the GBTClassifier model\n",
        "gbPredictions = gbModel.transform(testData)\n",
        "\n",
        "# Display the predictions\n",
        "display(gbPredictions)"
      ]
    },
    {
      "cell_type": "markdown",
      "metadata": {
        "application/vnd.databricks.v1+cell": {
          "cellMetadata": {},
          "inputWidgets": {},
          "nuid": "d29bdaac-f759-4c03-b214-f52095c8bd24",
          "showTitle": false,
          "title": ""
        },
        "id": "4rtPIunGrWOq"
      },
      "source": [
        "\n",
        "####Logistic Regression - Evaluate"
      ]
    },
    {
      "cell_type": "markdown",
      "metadata": {
        "application/vnd.databricks.v1+cell": {
          "cellMetadata": {},
          "inputWidgets": {},
          "nuid": "91850031-adf9-4ce4-ac4a-05d5f3da9555",
          "showTitle": false,
          "title": ""
        },
        "id": "MbDPINISrWOq"
      },
      "source": [
        "####<span style=\"color:darkblue\">Question 5</span>\n",
        "1. Complete the print_performance_metrics() function below to also include measures of F1, Precision, Recall, False Positive Rate and True Positive Rate."
      ]
    },
    {
      "cell_type": "code",
      "execution_count": null,
      "metadata": {
        "application/vnd.databricks.v1+cell": {
          "cellMetadata": {},
          "inputWidgets": {},
          "nuid": "cf4da4ee-af46-443a-bcd0-249092e8352d",
          "showTitle": false,
          "title": ""
        },
        "id": "2GskiG06rWOr"
      },
      "outputs": [],
      "source": [
        "from pyspark.ml.evaluation import BinaryClassificationEvaluator\n",
        "from pyspark.mllib.evaluation import BinaryClassificationMetrics, MulticlassMetrics\n",
        "\n",
        "def print_performance_metrics(predictions):\n",
        "  # Evaluate model\n",
        "  evaluator = BinaryClassificationEvaluator(rawPredictionCol=\"rawPrediction\")\n",
        "  auc = evaluator.evaluate(predictions, {evaluator.metricName: \"areaUnderROC\"})\n",
        "  aupr = evaluator.evaluate(predictions, {evaluator.metricName: \"areaUnderPR\"})\n",
        "  print(\"auc = {}\".format(auc))\n",
        "  print(\"aupr = {}\".format(aupr))\n",
        "\n",
        "  # get rdd of predictions and labels for mllib eval metrics\n",
        "  predictionAndLabels = predictions.select(\"prediction\",\"label\").rdd\n",
        "\n",
        "  # Instantiate metrics objects\n",
        "  binary_metrics = BinaryClassificationMetrics(predictionAndLabels)\n",
        "  multi_metrics = MulticlassMetrics(predictionAndLabels)\n",
        "\n",
        "  # Area under precision-recall curve\n",
        "  print(\"Area under PR = {}\".format(binary_metrics.areaUnderPR))\n",
        "  # Area under ROC curve\n",
        "  print(\"Area under ROC = {}\".format(binary_metrics.areaUnderROC))\n",
        "  # Accuracy\n",
        "  print(\"Accuracy = {}\".format(multi_metrics.accuracy))\n",
        "  # Confusion Matrix\n",
        "  print(multi_metrics.confusionMatrix())\n",
        "\n",
        "  ### Question 5.1 Answer ###\n",
        "\n",
        "  # Extract values from the confusion matrix\n",
        "  confusion_matrix = multi_metrics.confusionMatrix().toArray()\n",
        "  TN = confusion_matrix[0][0]\n",
        "  FP = confusion_matrix[0][1]\n",
        "  FN = confusion_matrix[1][0]\n",
        "  TP = confusion_matrix[1][1]\n",
        "\n",
        "  # Precision\n",
        "  precision = TP / (TP + FP)\n",
        "  # Recall\n",
        "  recall = TP / (TP + FN)\n",
        "  # F1 Score\n",
        "  f1 = 2 * (precision * recall) / (precision + recall)\n",
        "  # FPR\n",
        "  fpr = FP / (FP + TN)\n",
        "  # TPR\n",
        "  tpr = TP / (TP + FN)\n",
        "\n",
        "  # F1\n",
        "  print(\"F1 = {}\".format(f1))\n",
        "  # Precision\n",
        "  print(\"Precision = {}\".format(precision))\n",
        "  # Recall\n",
        "  print(\"Recall = {}\".format(recall))\n",
        "  # FPR\n",
        "  print(\"FPR = {}\".format(fpr))\n",
        "  # TPR\n",
        "  print(\"TPR = {}\".format(tpr))\n",
        "\n",
        "print_performance_metrics(lrPredictions)"
      ]
    },
    {
      "cell_type": "markdown",
      "metadata": {
        "application/vnd.databricks.v1+cell": {
          "cellMetadata": {},
          "inputWidgets": {},
          "nuid": "38e7e925-5f32-443e-9abe-0bc7576f1b70",
          "showTitle": false,
          "title": ""
        },
        "id": "fWeSwohFrWOr"
      },
      "source": [
        "####GBM - Evaluate"
      ]
    },
    {
      "cell_type": "code",
      "execution_count": null,
      "metadata": {
        "application/vnd.databricks.v1+cell": {
          "cellMetadata": {},
          "inputWidgets": {},
          "nuid": "b85dec6c-88dc-44aa-b850-704f0bb42e3e",
          "showTitle": false,
          "title": ""
        },
        "id": "LxguUcI2rWOr"
      },
      "outputs": [],
      "source": [
        "print_performance_metrics(gbPredictions)"
      ]
    },
    {
      "cell_type": "markdown",
      "metadata": {
        "application/vnd.databricks.v1+cell": {
          "cellMetadata": {},
          "inputWidgets": {},
          "nuid": "432a7da1-bb5e-4fed-b887-55626002ee1d",
          "showTitle": false,
          "title": ""
        },
        "id": "saDSCXi2rWOr"
      },
      "source": [
        "\n",
        "## Cross Validation"
      ]
    },
    {
      "cell_type": "markdown",
      "metadata": {
        "application/vnd.databricks.v1+cell": {
          "cellMetadata": {},
          "inputWidgets": {},
          "nuid": "73490aea-a46c-462d-a807-1bed858793e6",
          "showTitle": false,
          "title": ""
        },
        "id": "jBahcGn8rWOr"
      },
      "source": [
        "For each model you can run the below comand to see its params and a brief explanation of each."
      ]
    },
    {
      "cell_type": "code",
      "execution_count": null,
      "metadata": {
        "application/vnd.databricks.v1+cell": {
          "cellMetadata": {},
          "inputWidgets": {},
          "nuid": "4e29226c-0a6a-47eb-a2cb-599f39f543da",
          "showTitle": false,
          "title": ""
        },
        "id": "08VKO7JtrWOr"
      },
      "outputs": [],
      "source": [
        "print(lr.explainParams())"
      ]
    },
    {
      "cell_type": "code",
      "execution_count": null,
      "metadata": {
        "application/vnd.databricks.v1+cell": {
          "cellMetadata": {},
          "inputWidgets": {},
          "nuid": "6b4f3d3c-e60c-4abe-af45-3c1bbf8664be",
          "showTitle": false,
          "title": ""
        },
        "id": "2Nc-dkkgrWOr"
      },
      "outputs": [],
      "source": [
        "print(gb.explainParams())"
      ]
    },
    {
      "cell_type": "markdown",
      "metadata": {
        "application/vnd.databricks.v1+cell": {
          "cellMetadata": {},
          "inputWidgets": {},
          "nuid": "48d4e391-beba-4084-a08a-07abe343c10c",
          "showTitle": false,
          "title": ""
        },
        "id": "MzPKzN3SrWOs"
      },
      "source": [
        "\n",
        "####Logisitic Regression - Param Grid"
      ]
    },
    {
      "cell_type": "code",
      "execution_count": null,
      "metadata": {
        "application/vnd.databricks.v1+cell": {
          "cellMetadata": {},
          "inputWidgets": {},
          "nuid": "bf7568a1-5d21-4f49-820b-3d703922664e",
          "showTitle": false,
          "title": ""
        },
        "id": "UYOBfpNErWOs"
      },
      "outputs": [],
      "source": [
        "from pyspark.ml.tuning import ParamGridBuilder, CrossValidator\n",
        "\n",
        "# Create ParamGrid for Cross Validation\n",
        "lrParamGrid = (ParamGridBuilder()\n",
        "             .addGrid(lr.regParam, [0.01, 0.5, 2.0])\n",
        "             .addGrid(lr.elasticNetParam, [0.0, 0.5, 1.0])\n",
        "             .addGrid(lr.maxIter, [2, 5])\n",
        "             .build())"
      ]
    },
    {
      "cell_type": "markdown",
      "metadata": {
        "application/vnd.databricks.v1+cell": {
          "cellMetadata": {},
          "inputWidgets": {},
          "nuid": "a7f67215-4e05-4857-b667-06ae77c42716",
          "showTitle": false,
          "title": ""
        },
        "id": "oGC0tgT0rWOs"
      },
      "source": [
        "####GBM - Param Grid"
      ]
    },
    {
      "cell_type": "markdown",
      "metadata": {
        "application/vnd.databricks.v1+cell": {
          "cellMetadata": {},
          "inputWidgets": {},
          "nuid": "a98897a8-2147-49f3-9e90-c846ec0e856d",
          "showTitle": false,
          "title": ""
        },
        "id": "pZsf0d2frWOs"
      },
      "source": [
        "####<span style=\"color:darkblue\">Question 6</span>\n",
        "1. Build out a param grid for the gb model, call it 'gbParamGrid'."
      ]
    },
    {
      "cell_type": "code",
      "execution_count": null,
      "metadata": {
        "application/vnd.databricks.v1+cell": {
          "cellMetadata": {},
          "inputWidgets": {},
          "nuid": "825ab579-9195-4b9a-a012-fc45eab89a8b",
          "showTitle": false,
          "title": ""
        },
        "id": "gGDxRC-yrWOs"
      },
      "outputs": [],
      "source": [
        "### Question 6.1 Answer ###\n",
        "\n",
        "# Create ParamGrid for Cross Validation\n",
        "gbParamGrid = (ParamGridBuilder()\n",
        "               .addGrid(gb.maxDepth, [2, 4, 6])\n",
        "               .addGrid(gb.maxBins, [20, 40, 80])\n",
        "               .addGrid(gb.stepSize, [0.01, 0.1])\n",
        "               .addGrid(gb.maxIter, [10, 20])\n",
        "               .build())"
      ]
    },
    {
      "cell_type": "markdown",
      "metadata": {
        "application/vnd.databricks.v1+cell": {
          "cellMetadata": {},
          "inputWidgets": {},
          "nuid": "c68b7db6-c35b-4a92-bd2d-ae8cdf997d51",
          "showTitle": false,
          "title": ""
        },
        "id": "DoAEMRRFrWOs"
      },
      "source": [
        "\n",
        "####Logistic Regression - Perform Cross Validation"
      ]
    },
    {
      "cell_type": "code",
      "execution_count": null,
      "metadata": {
        "application/vnd.databricks.v1+cell": {
          "cellMetadata": {},
          "inputWidgets": {},
          "nuid": "271992ea-1211-4b89-94f8-9c4973f4f82f",
          "showTitle": false,
          "title": ""
        },
        "id": "cbDYH0rxrWOs"
      },
      "outputs": [],
      "source": [
        "# set up an evaluator\n",
        "evaluator = BinaryClassificationEvaluator(rawPredictionCol=\"rawPrediction\")\n",
        "\n",
        "# Create CrossValidator\n",
        "lrCv = CrossValidator(estimator=lr, estimatorParamMaps=lrParamGrid, evaluator=evaluator, numFolds=2)\n",
        "\n",
        "# Run cross validations\n",
        "lrCvModel = lrCv.fit(trainingData)\n",
        "# this will likely take a fair amount of time because of the amount of models that we're creating and testing"
      ]
    },
    {
      "cell_type": "code",
      "execution_count": null,
      "metadata": {
        "application/vnd.databricks.v1+cell": {
          "cellMetadata": {},
          "inputWidgets": {},
          "nuid": "2f094f4f-68a8-4127-90bf-2afc9419e61d",
          "showTitle": false,
          "title": ""
        },
        "id": "QCKToMK_rWOs"
      },
      "outputs": [],
      "source": [
        "# below approach to getting at the best params from the best cv model taken from:\n",
        "# https://stackoverflow.com/a/46353730/1919374\n",
        "\n",
        "# look at best params from the CV\n",
        "print(lrCvModel.bestModel._java_obj.getRegParam())\n",
        "print(lrCvModel.bestModel._java_obj.getElasticNetParam())\n",
        "print(lrCvModel.bestModel._java_obj.getMaxIter())"
      ]
    },
    {
      "cell_type": "markdown",
      "metadata": {
        "application/vnd.databricks.v1+cell": {
          "cellMetadata": {},
          "inputWidgets": {},
          "nuid": "2c870564-9323-4937-9ac8-9fb079d50202",
          "showTitle": false,
          "title": ""
        },
        "id": "PGuPa_TDrWOs"
      },
      "source": [
        "####GBM - Perform Cross Validation"
      ]
    },
    {
      "cell_type": "markdown",
      "metadata": {
        "application/vnd.databricks.v1+cell": {
          "cellMetadata": {},
          "inputWidgets": {},
          "nuid": "46182011-632c-4def-8ce3-84f73736a565",
          "showTitle": false,
          "title": ""
        },
        "id": "7t9vQJxKrWOt"
      },
      "source": [
        "####<span style=\"color:darkblue\">Question 7</span>\n",
        "1. Perform cross validation of params on your 'gb' model.\n",
        "1. Print out the best params you found."
      ]
    },
    {
      "cell_type": "code",
      "execution_count": null,
      "metadata": {
        "application/vnd.databricks.v1+cell": {
          "cellMetadata": {},
          "inputWidgets": {},
          "nuid": "e977720d-4320-4f90-a421-5bbb5fd06563",
          "showTitle": false,
          "title": ""
        },
        "id": "TMHPNh8SrWOt"
      },
      "outputs": [],
      "source": [
        "### Question 7.1 Answer ###\n",
        "\n",
        "# Create CrossValidator\n",
        "gbCv = CrossValidator(estimator=gb,\n",
        "                      estimatorParamMaps=gbParamGrid,\n",
        "                      evaluator=evaluator,\n",
        "                      numFolds=2)\n",
        "\n",
        "# Run cross validations\n",
        "gbCvModel = gbCv.fit(trainingData)"
      ]
    },
    {
      "cell_type": "code",
      "execution_count": null,
      "metadata": {
        "application/vnd.databricks.v1+cell": {
          "cellMetadata": {},
          "inputWidgets": {},
          "nuid": "de82406e-efb5-470c-8340-02f44f3464f1",
          "showTitle": false,
          "title": ""
        },
        "id": "LN9glfifrWOt"
      },
      "outputs": [],
      "source": [
        "### Question 7.2 Answer ###\n",
        "\n",
        "# look at best params from the CV\n",
        "print(\"Best Max Depth: \", gbCvModel.bestModel._java_obj.getMaxDepth())\n",
        "print(\"Best Max Bins: \", gbCvModel.bestModel._java_obj.getMaxBins())\n",
        "print(\"Best Step Size: \", gbCvModel.bestModel._java_obj.getStepSize())\n",
        "print(\"Best Max Iter: \", gbCvModel.bestModel._java_obj.getMaxIter())"
      ]
    },
    {
      "cell_type": "markdown",
      "metadata": {
        "application/vnd.databricks.v1+cell": {
          "cellMetadata": {},
          "inputWidgets": {},
          "nuid": "73eacab3-b16e-4cf7-9205-b4101d017612",
          "showTitle": false,
          "title": ""
        },
        "id": "jm6k24GorWOt"
      },
      "source": [
        "####Logistic Regression - CV Model Predict"
      ]
    },
    {
      "cell_type": "code",
      "execution_count": null,
      "metadata": {
        "application/vnd.databricks.v1+cell": {
          "cellMetadata": {},
          "inputWidgets": {},
          "nuid": "db5dff47-6da8-4dea-bd9c-85a6c628ec13",
          "showTitle": false,
          "title": ""
        },
        "id": "7rG8PDwMrWOt"
      },
      "outputs": [],
      "source": [
        "# Use test set to measure the accuracy of our model on new data\n",
        "lrCvPredictions = lrCvModel.transform(testData)\n",
        "\n",
        "display(lrCvPredictions)"
      ]
    },
    {
      "cell_type": "markdown",
      "metadata": {
        "application/vnd.databricks.v1+cell": {
          "cellMetadata": {},
          "inputWidgets": {},
          "nuid": "82bec496-2e2e-4908-b2c5-530eaed73203",
          "showTitle": false,
          "title": ""
        },
        "id": "ZwiE2tTYrWOt"
      },
      "source": [
        "####GBM - CV Model Predict"
      ]
    },
    {
      "cell_type": "code",
      "execution_count": null,
      "metadata": {
        "application/vnd.databricks.v1+cell": {
          "cellMetadata": {},
          "inputWidgets": {},
          "nuid": "dfb9530f-fa0d-46e7-8005-c4878028afd0",
          "showTitle": false,
          "title": ""
        },
        "id": "T36dLBXjrWOt"
      },
      "outputs": [],
      "source": [
        "gbCvPredictions = gbCvModel.transform(testData)\n",
        "\n",
        "display(gbCvPredictions)"
      ]
    },
    {
      "cell_type": "markdown",
      "metadata": {
        "application/vnd.databricks.v1+cell": {
          "cellMetadata": {},
          "inputWidgets": {},
          "nuid": "2137b899-95c3-4f39-95a0-0569ff5c91ab",
          "showTitle": false,
          "title": ""
        },
        "id": "4jL2jIe2rWOt"
      },
      "source": [
        "####Logistic Regression - CV Model Evaluate"
      ]
    },
    {
      "cell_type": "code",
      "execution_count": null,
      "metadata": {
        "application/vnd.databricks.v1+cell": {
          "cellMetadata": {},
          "inputWidgets": {},
          "nuid": "9ad2aff6-aea2-49f4-b2ce-635262cef1e9",
          "showTitle": false,
          "title": ""
        },
        "id": "LDpDC2acrWOu"
      },
      "outputs": [],
      "source": [
        "print_performance_metrics(lrCvPredictions)"
      ]
    },
    {
      "cell_type": "markdown",
      "metadata": {
        "application/vnd.databricks.v1+cell": {
          "cellMetadata": {},
          "inputWidgets": {},
          "nuid": "3b362dc6-c8fa-4eb6-981a-a4aa6dc038b7",
          "showTitle": false,
          "title": ""
        },
        "id": "WwNlYMD0rWOu"
      },
      "source": [
        "####GBM - CV Model Evaluate"
      ]
    },
    {
      "cell_type": "code",
      "execution_count": null,
      "metadata": {
        "application/vnd.databricks.v1+cell": {
          "cellMetadata": {},
          "inputWidgets": {},
          "nuid": "95d44848-21e5-43a7-8794-b19776ece794",
          "showTitle": false,
          "title": ""
        },
        "id": "3xVcSj55rWOu"
      },
      "outputs": [],
      "source": [
        "print_performance_metrics(gbCvPredictions)"
      ]
    },
    {
      "cell_type": "markdown",
      "metadata": {
        "application/vnd.databricks.v1+cell": {
          "cellMetadata": {},
          "inputWidgets": {},
          "nuid": "ca260a77-72c0-47bb-abc5-52dffbfb637d",
          "showTitle": false,
          "title": ""
        },
        "id": "X47YWNm6rWOu"
      },
      "source": [
        "####Logistic Regression - Model Explore"
      ]
    },
    {
      "cell_type": "code",
      "execution_count": null,
      "metadata": {
        "application/vnd.databricks.v1+cell": {
          "cellMetadata": {},
          "inputWidgets": {},
          "nuid": "a0a22c3e-9836-4e16-b896-3fa10ae3638e",
          "showTitle": false,
          "title": ""
        },
        "id": "yuVEYwSirWOu"
      },
      "outputs": [],
      "source": [
        "print('Model Intercept: ', lrCvModel.bestModel.intercept)"
      ]
    },
    {
      "cell_type": "code",
      "execution_count": null,
      "metadata": {
        "application/vnd.databricks.v1+cell": {
          "cellMetadata": {},
          "inputWidgets": {},
          "nuid": "2f3ea2b2-5c87-472c-9d8a-f4b5760bccf2",
          "showTitle": false,
          "title": ""
        },
        "id": "kj4peA25rWOu"
      },
      "outputs": [],
      "source": [
        "lrWeights = lrCvModel.bestModel.coefficients\n",
        "lrWeights = [(float(w),) for w in lrWeights]  # convert numpy type to float, and to tuple\n",
        "lrWeightsDF = sqlContext.createDataFrame(lrWeights, [\"Feature Weight\"])\n",
        "display(lrWeightsDF)"
      ]
    },
    {
      "cell_type": "markdown",
      "metadata": {
        "application/vnd.databricks.v1+cell": {
          "cellMetadata": {},
          "inputWidgets": {},
          "nuid": "e3ec69bb-3e19-47bc-a08c-4b52149455aa",
          "showTitle": false,
          "title": ""
        },
        "id": "iSCL-nRxrWOu"
      },
      "source": [
        "### Feature Importance"
      ]
    },
    {
      "cell_type": "markdown",
      "metadata": {
        "application/vnd.databricks.v1+cell": {
          "cellMetadata": {},
          "inputWidgets": {},
          "nuid": "1335c356-3557-4ae9-bdc3-5d6bdfa32008",
          "showTitle": false,
          "title": ""
        },
        "id": "My8TqOz5rWOu"
      },
      "source": [
        "####<span style=\"color:darkblue\">Question 8</span>\n",
        "1. Print out a table of feature_name and feature_coefficient from the Logistic Regression model.\n",
        "<br><br>\n",
        "Hint: Adapt the code from here: https://stackoverflow.com/questions/42935914/how-to-map-features-from-the-output-of-a-vectorassembler-back-to-the-column-name"
      ]
    },
    {
      "cell_type": "code",
      "execution_count": null,
      "metadata": {
        "application/vnd.databricks.v1+cell": {
          "cellMetadata": {},
          "inputWidgets": {},
          "nuid": "91085803-68c6-4e28-a3bb-f4914bb0b3bb",
          "showTitle": false,
          "title": ""
        },
        "id": "h6MG_s4drWOv"
      },
      "outputs": [],
      "source": [
        "### Question 8.1 Answer ###\n",
        "\n",
        "# from: https://stackoverflow.com/questions/42935914/how-to-map-features-from-the-output-of-a-vectorassembler-back-to-the-column-name\n",
        "\n",
        "from itertools import chain\n",
        "\n",
        "# Extract feature names and their indices from the dataset DataFrame\n",
        "attrs = sorted(\n",
        "    (attr[\"idx\"], attr[\"name\"]) for attr in (chain(*dataset\n",
        "        .schema[\"features\"]\n",
        "        .metadata[\"ml_attr\"][\"attrs\"].values())))\n",
        "\n",
        "# Create the lrFeatureCoefficients DataFrame using the extracted feature names and the model's coefficients\n",
        "lrFeatureCoefficients = pd.DataFrame([(name, lrCvModel.bestModel.coefficients[idx]) for idx, name in attrs], columns=['feature_name', 'feature_coefficient'])\n",
        "\n",
        "print(lrFeatureCoefficients.sort_values(by=['feature_coefficient'], ascending=False))"
      ]
    },
    {
      "cell_type": "code",
      "execution_count": null,
      "metadata": {
        "application/vnd.databricks.v1+cell": {
          "cellMetadata": {},
          "inputWidgets": {},
          "nuid": "47b06a66-935d-466e-912b-50727b8425b7",
          "showTitle": false,
          "title": ""
        },
        "id": "q1KXZZSirWOv"
      },
      "outputs": [],
      "source": [
        "gbCvFeatureImportance = pd.DataFrame([(name, gbCvModel.bestModel.featureImportances[idx]) for idx, name in attrs],columns=['feature_name','feature_importance'])\n",
        "\n",
        "print(gbCvFeatureImportance.sort_values(by=['feature_importance'],ascending =False))"
      ]
    },
    {
      "cell_type": "markdown",
      "metadata": {
        "application/vnd.databricks.v1+cell": {
          "cellMetadata": {},
          "inputWidgets": {},
          "nuid": "2da17369-1fa9-4a49-a7bb-13d27a065015",
          "showTitle": false,
          "title": ""
        },
        "id": "8xutN_L4rWOv"
      },
      "source": [
        "####<span style=\"color:darkblue\">Question 9</span>\n",
        "1. Build and train a RandomForestClassifier and print out a table of feature importances from it."
      ]
    },
    {
      "cell_type": "code",
      "execution_count": null,
      "metadata": {
        "application/vnd.databricks.v1+cell": {
          "cellMetadata": {},
          "inputWidgets": {},
          "nuid": "7aa3a9d7-b674-4748-9c6d-9dd77c76001f",
          "showTitle": false,
          "title": ""
        },
        "id": "uhASyglprWOv"
      },
      "outputs": [],
      "source": [
        "### Question 9.1 Answer ###\n",
        "\n",
        "from pyspark.ml.classification import RandomForestClassifier\n",
        "\n",
        "rf = RandomForestClassifier(labelCol=\"label\", featuresCol=\"features\", numTrees=100)\n",
        "\n",
        "rfModel = rf.fit(trainingData)\n",
        "\n",
        "rfFeatureImportance = [(name, rfModel.featureImportances[idx]) for idx, name in attrs]\n",
        "rfFeatureImportanceDF = pd.DataFrame(rfFeatureImportance, columns=['feature_name', 'feature_importance'])\n",
        "\n",
        "print(rfFeatureImportanceDF.sort_values(by=['feature_importance'], ascending=False))"
      ]
    }
  ],
  "metadata": {
    "application/vnd.databricks.v1+notebook": {
      "dashboards": [],
      "language": "python",
      "notebookMetadata": {
        "pythonIndentUnit": 4
      },
      "notebookName": "latest",
      "widgets": {}
    },
    "colab": {
      "provenance": [],
      "include_colab_link": true
    }
  },
  "nbformat": 4,
  "nbformat_minor": 0
}